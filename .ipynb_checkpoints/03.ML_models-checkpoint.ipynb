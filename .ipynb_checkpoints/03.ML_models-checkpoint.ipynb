{
 "cells": [
  {
   "cell_type": "code",
   "execution_count": 1,
   "metadata": {},
   "outputs": [],
   "source": [
    "import pandas as pd \n",
    "import numpy as np\n",
    "import seaborn as sns\n",
    "import matplotlib.pyplot as plt\n",
    "import math\n",
    "from sklearn.impute import SimpleImputer\n",
    "from sklearn.preprocessing import RobustScaler\n",
    "from sklearn.preprocessing import OneHotEncoder\n",
    "from sklearn.linear_model import ElasticNetCV\n",
    "from sklearn.metrics import mean_absolute_error\n",
    "from sklearn.metrics import mean_squared_error\n",
    "from sklearn.model_selection import train_test_split\n",
    "from sklearn.linear_model import LinearRegression\n",
    "from sklearn.metrics import accuracy_score\n",
    "from sklearn.feature_selection import SelectKBest, f_classif\n",
    "from sklearn.preprocessing import RobustScaler\n",
    "from sklearn.linear_model import Lasso,Ridge, RidgeCV, ElasticNet, LassoCV, LassoLarsCV\n",
    "from sklearn.model_selection import cross_val_score,GridSearchCV\n",
    "from xgboost import XGBRegressor\n",
    "from sklearn.ensemble import RandomForestRegressor\n",
    "train = pd.read_csv('./Data/Cleaned_train.csv')\n",
    "test = pd.read_csv('./Data/Cleaned_test.csv')"
   ]
  },
  {
   "cell_type": "markdown",
   "metadata": {},
   "source": [
    "Dividing the training data set into train and validataion"
   ]
  },
  {
   "cell_type": "code",
   "execution_count": 2,
   "metadata": {},
   "outputs": [],
   "source": [
    "from sklearn.model_selection import train_test_split\n",
    "X = train.drop(['SalePrice'],axis=1)\n",
    "y = train['SalePrice']\n",
    "train_X, val_X, train_y, val_y = train_test_split(X, y, random_state = 0)"
   ]
  },
  {
   "cell_type": "markdown",
   "metadata": {},
   "source": [
    "### 1.Simple Linear regressor. "
   ]
  },
  {
   "cell_type": "code",
   "execution_count": 3,
   "metadata": {},
   "outputs": [
    {
     "name": "stdout",
     "output_type": "stream",
     "text": [
      "Mean absolute error :  46.032108254575114\n",
      "Mean sqaured error :  620.7559302174832\n"
     ]
    }
   ],
   "source": [
    "linear_model = LinearRegression()\n",
    "# Fit model\n",
    "linear_model.fit(train_X, train_y)\n",
    "# get predicted prices on validation data\n",
    "val_predictions = linear_model.predict(val_X)\n",
    "print(\"Mean absolute error : \",mean_absolute_error(val_predictions,val_y))\n",
    "print(\"Mean sqaured error : \",math.sqrt(mean_squared_error(val_predictions,val_y)))"
   ]
  },
  {
   "cell_type": "markdown",
   "metadata": {},
   "source": [
    "#### Looks like selecting all the features is not a good idea. So we have to do the feature selection to find out the best features."
   ]
  },
  {
   "cell_type": "markdown",
   "metadata": {},
   "source": [
    "### 2. Lasso Regression "
   ]
  },
  {
   "cell_type": "code",
   "execution_count": 4,
   "metadata": {},
   "outputs": [
    {
     "name": "stderr",
     "output_type": "stream",
     "text": [
      "C:\\Users\\sachi\\Anaconda3\\lib\\site-packages\\sklearn\\linear_model\\coordinate_descent.py:475: ConvergenceWarning: Objective did not converge. You might want to increase the number of iterations. Duality gap: 3.57877819374338, tolerance: 0.016069669072150697\n",
      "  positive)\n",
      "C:\\Users\\sachi\\Anaconda3\\lib\\site-packages\\sklearn\\linear_model\\coordinate_descent.py:475: ConvergenceWarning: Objective did not converge. You might want to increase the number of iterations. Duality gap: 3.7460290027462264, tolerance: 0.01593146551828204\n",
      "  positive)\n",
      "C:\\Users\\sachi\\Anaconda3\\lib\\site-packages\\sklearn\\linear_model\\coordinate_descent.py:475: ConvergenceWarning: Objective did not converge. You might want to increase the number of iterations. Duality gap: 3.6598925074730984, tolerance: 0.015962269117340208\n",
      "  positive)\n",
      "C:\\Users\\sachi\\Anaconda3\\lib\\site-packages\\sklearn\\linear_model\\coordinate_descent.py:475: ConvergenceWarning: Objective did not converge. You might want to increase the number of iterations. Duality gap: 3.618785149338952, tolerance: 0.015224688340694048\n",
      "  positive)\n",
      "C:\\Users\\sachi\\Anaconda3\\lib\\site-packages\\sklearn\\linear_model\\coordinate_descent.py:475: ConvergenceWarning: Objective did not converge. You might want to increase the number of iterations. Duality gap: 3.8545777871044486, tolerance: 0.01605238430774883\n",
      "  positive)\n",
      "C:\\Users\\sachi\\Anaconda3\\lib\\site-packages\\sklearn\\linear_model\\coordinate_descent.py:475: ConvergenceWarning: Objective did not converge. You might want to increase the number of iterations. Duality gap: 3.7870869824664664, tolerance: 0.01588464116461564\n",
      "  positive)\n",
      "C:\\Users\\sachi\\Anaconda3\\lib\\site-packages\\sklearn\\linear_model\\coordinate_descent.py:475: ConvergenceWarning: Objective did not converge. You might want to increase the number of iterations. Duality gap: 3.5602385170179995, tolerance: 0.015804598638712107\n",
      "  positive)\n",
      "C:\\Users\\sachi\\Anaconda3\\lib\\site-packages\\sklearn\\linear_model\\coordinate_descent.py:475: ConvergenceWarning: Objective did not converge. You might want to increase the number of iterations. Duality gap: 3.5806603510320887, tolerance: 0.01607603856664009\n",
      "  positive)\n",
      "C:\\Users\\sachi\\Anaconda3\\lib\\site-packages\\sklearn\\linear_model\\coordinate_descent.py:475: ConvergenceWarning: Objective did not converge. You might want to increase the number of iterations. Duality gap: 3.80497816282849, tolerance: 0.01567150326131653\n",
      "  positive)\n",
      "C:\\Users\\sachi\\Anaconda3\\lib\\site-packages\\sklearn\\linear_model\\coordinate_descent.py:475: ConvergenceWarning: Objective did not converge. You might want to increase the number of iterations. Duality gap: 3.7471376623028965, tolerance: 0.016434346835342496\n",
      "  positive)\n",
      "C:\\Users\\sachi\\Anaconda3\\lib\\site-packages\\sklearn\\linear_model\\coordinate_descent.py:475: ConvergenceWarning: Objective did not converge. You might want to increase the number of iterations. Duality gap: 3.9579096323458973, tolerance: 0.01607640421157488\n",
      "  positive)\n",
      "C:\\Users\\sachi\\Anaconda3\\lib\\site-packages\\sklearn\\linear_model\\coordinate_descent.py:475: ConvergenceWarning: Objective did not converge. You might want to increase the number of iterations. Duality gap: 3.8694649673524473, tolerance: 0.015963894246953745\n",
      "  positive)\n",
      "C:\\Users\\sachi\\Anaconda3\\lib\\site-packages\\sklearn\\linear_model\\coordinate_descent.py:475: ConvergenceWarning: Objective did not converge. You might want to increase the number of iterations. Duality gap: 3.8856157509290723, tolerance: 0.01601240560312033\n",
      "  positive)\n",
      "C:\\Users\\sachi\\Anaconda3\\lib\\site-packages\\sklearn\\linear_model\\coordinate_descent.py:475: ConvergenceWarning: Objective did not converge. You might want to increase the number of iterations. Duality gap: 3.744970215671682, tolerance: 0.01594471841655211\n",
      "  positive)\n",
      "C:\\Users\\sachi\\Anaconda3\\lib\\site-packages\\sklearn\\linear_model\\coordinate_descent.py:475: ConvergenceWarning: Objective did not converge. You might want to increase the number of iterations. Duality gap: 3.7505153784178917, tolerance: 0.016096200926674662\n",
      "  positive)\n",
      "C:\\Users\\sachi\\Anaconda3\\lib\\site-packages\\sklearn\\linear_model\\coordinate_descent.py:475: ConvergenceWarning: Objective did not converge. You might want to increase the number of iterations. Duality gap: 3.564368677080084, tolerance: 0.016069669072150697\n",
      "  positive)\n",
      "C:\\Users\\sachi\\Anaconda3\\lib\\site-packages\\sklearn\\linear_model\\coordinate_descent.py:475: ConvergenceWarning: Objective did not converge. You might want to increase the number of iterations. Duality gap: 3.7304865349796357, tolerance: 0.01593146551828204\n",
      "  positive)\n",
      "C:\\Users\\sachi\\Anaconda3\\lib\\site-packages\\sklearn\\linear_model\\coordinate_descent.py:475: ConvergenceWarning: Objective did not converge. You might want to increase the number of iterations. Duality gap: 3.6456460186956567, tolerance: 0.015962269117340208\n",
      "  positive)\n",
      "C:\\Users\\sachi\\Anaconda3\\lib\\site-packages\\sklearn\\linear_model\\coordinate_descent.py:475: ConvergenceWarning: Objective did not converge. You might want to increase the number of iterations. Duality gap: 3.6040932553028737, tolerance: 0.015224688340694048\n",
      "  positive)\n",
      "C:\\Users\\sachi\\Anaconda3\\lib\\site-packages\\sklearn\\linear_model\\coordinate_descent.py:475: ConvergenceWarning: Objective did not converge. You might want to increase the number of iterations. Duality gap: 3.854577561291832, tolerance: 0.01605238430774883\n",
      "  positive)\n",
      "C:\\Users\\sachi\\Anaconda3\\lib\\site-packages\\sklearn\\linear_model\\coordinate_descent.py:475: ConvergenceWarning: Objective did not converge. You might want to increase the number of iterations. Duality gap: 3.772073060091641, tolerance: 0.01588464116461564\n",
      "  positive)\n",
      "C:\\Users\\sachi\\Anaconda3\\lib\\site-packages\\sklearn\\linear_model\\coordinate_descent.py:475: ConvergenceWarning: Objective did not converge. You might want to increase the number of iterations. Duality gap: 3.5471586058321907, tolerance: 0.015804598638712107\n",
      "  positive)\n",
      "C:\\Users\\sachi\\Anaconda3\\lib\\site-packages\\sklearn\\linear_model\\coordinate_descent.py:475: ConvergenceWarning: Objective did not converge. You might want to increase the number of iterations. Duality gap: 3.574350751393449, tolerance: 0.01607603856664009\n",
      "  positive)\n",
      "C:\\Users\\sachi\\Anaconda3\\lib\\site-packages\\sklearn\\linear_model\\coordinate_descent.py:475: ConvergenceWarning: Objective did not converge. You might want to increase the number of iterations. Duality gap: 3.789748936790279, tolerance: 0.01567150326131653\n",
      "  positive)\n",
      "C:\\Users\\sachi\\Anaconda3\\lib\\site-packages\\sklearn\\linear_model\\coordinate_descent.py:475: ConvergenceWarning: Objective did not converge. You might want to increase the number of iterations. Duality gap: 3.7463150938851557, tolerance: 0.016434346835342496\n",
      "  positive)\n",
      "C:\\Users\\sachi\\Anaconda3\\lib\\site-packages\\sklearn\\linear_model\\coordinate_descent.py:475: ConvergenceWarning: Objective did not converge. You might want to increase the number of iterations. Duality gap: 3.956728393741158, tolerance: 0.01607640421157488\n",
      "  positive)\n",
      "C:\\Users\\sachi\\Anaconda3\\lib\\site-packages\\sklearn\\linear_model\\coordinate_descent.py:475: ConvergenceWarning: Objective did not converge. You might want to increase the number of iterations. Duality gap: 3.863342000747024, tolerance: 0.015963894246953745\n",
      "  positive)\n",
      "C:\\Users\\sachi\\Anaconda3\\lib\\site-packages\\sklearn\\linear_model\\coordinate_descent.py:475: ConvergenceWarning: Objective did not converge. You might want to increase the number of iterations. Duality gap: 3.8693522340044213, tolerance: 0.01601240560312033\n",
      "  positive)\n",
      "C:\\Users\\sachi\\Anaconda3\\lib\\site-packages\\sklearn\\linear_model\\coordinate_descent.py:475: ConvergenceWarning: Objective did not converge. You might want to increase the number of iterations. Duality gap: 3.729777922027546, tolerance: 0.01594471841655211\n",
      "  positive)\n",
      "C:\\Users\\sachi\\Anaconda3\\lib\\site-packages\\sklearn\\linear_model\\coordinate_descent.py:475: ConvergenceWarning: Objective did not converge. You might want to increase the number of iterations. Duality gap: 3.7381851732134233, tolerance: 0.016096200926674662\n",
      "  positive)\n",
      "C:\\Users\\sachi\\Anaconda3\\lib\\site-packages\\sklearn\\linear_model\\coordinate_descent.py:475: ConvergenceWarning: Objective did not converge. You might want to increase the number of iterations. Duality gap: 3.565259827518345, tolerance: 0.016069669072150697\n",
      "  positive)\n"
     ]
    },
    {
     "name": "stderr",
     "output_type": "stream",
     "text": [
      "C:\\Users\\sachi\\Anaconda3\\lib\\site-packages\\sklearn\\linear_model\\coordinate_descent.py:475: ConvergenceWarning: Objective did not converge. You might want to increase the number of iterations. Duality gap: 3.731769870399434, tolerance: 0.01593146551828204\n",
      "  positive)\n",
      "C:\\Users\\sachi\\Anaconda3\\lib\\site-packages\\sklearn\\linear_model\\coordinate_descent.py:475: ConvergenceWarning: Objective did not converge. You might want to increase the number of iterations. Duality gap: 3.646021240658645, tolerance: 0.015962269117340208\n",
      "  positive)\n",
      "C:\\Users\\sachi\\Anaconda3\\lib\\site-packages\\sklearn\\linear_model\\coordinate_descent.py:475: ConvergenceWarning: Objective did not converge. You might want to increase the number of iterations. Duality gap: 3.604618307165463, tolerance: 0.015224688340694048\n",
      "  positive)\n",
      "C:\\Users\\sachi\\Anaconda3\\lib\\site-packages\\sklearn\\linear_model\\coordinate_descent.py:475: ConvergenceWarning: Objective did not converge. You might want to increase the number of iterations. Duality gap: 3.854554963957773, tolerance: 0.01605238430774883\n",
      "  positive)\n",
      "C:\\Users\\sachi\\Anaconda3\\lib\\site-packages\\sklearn\\linear_model\\coordinate_descent.py:475: ConvergenceWarning: Objective did not converge. You might want to increase the number of iterations. Duality gap: 3.772547308684507, tolerance: 0.01588464116461564\n",
      "  positive)\n",
      "C:\\Users\\sachi\\Anaconda3\\lib\\site-packages\\sklearn\\linear_model\\coordinate_descent.py:475: ConvergenceWarning: Objective did not converge. You might want to increase the number of iterations. Duality gap: 3.546455340426087, tolerance: 0.015804598638712107\n",
      "  positive)\n",
      "C:\\Users\\sachi\\Anaconda3\\lib\\site-packages\\sklearn\\linear_model\\coordinate_descent.py:475: ConvergenceWarning: Objective did not converge. You might want to increase the number of iterations. Duality gap: 3.566847353708452, tolerance: 0.01607603856664009\n",
      "  positive)\n",
      "C:\\Users\\sachi\\Anaconda3\\lib\\site-packages\\sklearn\\linear_model\\coordinate_descent.py:475: ConvergenceWarning: Objective did not converge. You might want to increase the number of iterations. Duality gap: 3.7900996344811055, tolerance: 0.01567150326131653\n",
      "  positive)\n",
      "C:\\Users\\sachi\\Anaconda3\\lib\\site-packages\\sklearn\\linear_model\\coordinate_descent.py:475: ConvergenceWarning: Objective did not converge. You might want to increase the number of iterations. Duality gap: 3.7329286248950635, tolerance: 0.016434346835342496\n",
      "  positive)\n",
      "C:\\Users\\sachi\\Anaconda3\\lib\\site-packages\\sklearn\\linear_model\\coordinate_descent.py:475: ConvergenceWarning: Objective did not converge. You might want to increase the number of iterations. Duality gap: 3.9434969204703565, tolerance: 0.01607640421157488\n",
      "  positive)\n",
      "C:\\Users\\sachi\\Anaconda3\\lib\\site-packages\\sklearn\\linear_model\\coordinate_descent.py:475: ConvergenceWarning: Objective did not converge. You might want to increase the number of iterations. Duality gap: 3.854446950327074, tolerance: 0.015963894246953745\n",
      "  positive)\n",
      "C:\\Users\\sachi\\Anaconda3\\lib\\site-packages\\sklearn\\linear_model\\coordinate_descent.py:475: ConvergenceWarning: Objective did not converge. You might want to increase the number of iterations. Duality gap: 3.8705263550353735, tolerance: 0.01601240560312033\n",
      "  positive)\n",
      "C:\\Users\\sachi\\Anaconda3\\lib\\site-packages\\sklearn\\linear_model\\coordinate_descent.py:475: ConvergenceWarning: Objective did not converge. You might want to increase the number of iterations. Duality gap: 3.7305322742848657, tolerance: 0.01594471841655211\n",
      "  positive)\n",
      "C:\\Users\\sachi\\Anaconda3\\lib\\site-packages\\sklearn\\linear_model\\coordinate_descent.py:475: ConvergenceWarning: Objective did not converge. You might want to increase the number of iterations. Duality gap: 3.7361717556805343, tolerance: 0.016096200926674662\n",
      "  positive)\n",
      "C:\\Users\\sachi\\Anaconda3\\lib\\site-packages\\sklearn\\linear_model\\coordinate_descent.py:475: ConvergenceWarning: Objective did not converge. You might want to increase the number of iterations. Duality gap: 0.06596920336633616, tolerance: 0.01605238430774883\n",
      "  positive)\n",
      "C:\\Users\\sachi\\Anaconda3\\lib\\site-packages\\sklearn\\linear_model\\coordinate_descent.py:475: ConvergenceWarning: Objective did not converge. You might want to increase the number of iterations. Duality gap: 0.02393524587694884, tolerance: 0.015804598638712107\n",
      "  positive)\n",
      "C:\\Users\\sachi\\Anaconda3\\lib\\site-packages\\sklearn\\linear_model\\coordinate_descent.py:475: ConvergenceWarning: Objective did not converge. You might want to increase the number of iterations. Duality gap: 0.028484753986435685, tolerance: 0.01567150326131653\n",
      "  positive)\n",
      "C:\\Users\\sachi\\Anaconda3\\lib\\site-packages\\sklearn\\linear_model\\coordinate_descent.py:475: ConvergenceWarning: Objective did not converge. You might want to increase the number of iterations. Duality gap: 0.018579615081552703, tolerance: 0.01601240560312033\n",
      "  positive)\n",
      "C:\\Users\\sachi\\Anaconda3\\lib\\site-packages\\sklearn\\linear_model\\coordinate_descent.py:475: ConvergenceWarning: Objective did not converge. You might want to increase the number of iterations. Duality gap: 0.05567615162279793, tolerance: 0.015804598638712107\n",
      "  positive)\n",
      "C:\\Users\\sachi\\Anaconda3\\lib\\site-packages\\sklearn\\linear_model\\coordinate_descent.py:475: ConvergenceWarning: Objective did not converge. You might want to increase the number of iterations. Duality gap: 0.022408065918464004, tolerance: 0.016096200926674662\n",
      "  positive)\n",
      "C:\\Users\\sachi\\Anaconda3\\lib\\site-packages\\sklearn\\linear_model\\coordinate_descent.py:475: ConvergenceWarning: Objective did not converge. You might want to increase the number of iterations. Duality gap: 0.04495437630583865, tolerance: 0.016069669072150697\n",
      "  positive)\n",
      "C:\\Users\\sachi\\Anaconda3\\lib\\site-packages\\sklearn\\linear_model\\coordinate_descent.py:475: ConvergenceWarning: Objective did not converge. You might want to increase the number of iterations. Duality gap: 0.04128719568460326, tolerance: 0.01593146551828204\n",
      "  positive)\n",
      "C:\\Users\\sachi\\Anaconda3\\lib\\site-packages\\sklearn\\linear_model\\coordinate_descent.py:475: ConvergenceWarning: Objective did not converge. You might want to increase the number of iterations. Duality gap: 0.04139278916219524, tolerance: 0.015962269117340208\n",
      "  positive)\n",
      "C:\\Users\\sachi\\Anaconda3\\lib\\site-packages\\sklearn\\linear_model\\coordinate_descent.py:475: ConvergenceWarning: Objective did not converge. You might want to increase the number of iterations. Duality gap: 0.041468067940297004, tolerance: 0.015224688340694048\n",
      "  positive)\n",
      "C:\\Users\\sachi\\Anaconda3\\lib\\site-packages\\sklearn\\linear_model\\coordinate_descent.py:475: ConvergenceWarning: Objective did not converge. You might want to increase the number of iterations. Duality gap: 0.041430010769470726, tolerance: 0.01605238430774883\n",
      "  positive)\n",
      "C:\\Users\\sachi\\Anaconda3\\lib\\site-packages\\sklearn\\linear_model\\coordinate_descent.py:475: ConvergenceWarning: Objective did not converge. You might want to increase the number of iterations. Duality gap: 0.04203751723973781, tolerance: 0.01588464116461564\n",
      "  positive)\n",
      "C:\\Users\\sachi\\Anaconda3\\lib\\site-packages\\sklearn\\linear_model\\coordinate_descent.py:475: ConvergenceWarning: Objective did not converge. You might want to increase the number of iterations. Duality gap: 0.06796027885601674, tolerance: 0.015804598638712107\n",
      "  positive)\n",
      "C:\\Users\\sachi\\Anaconda3\\lib\\site-packages\\sklearn\\linear_model\\coordinate_descent.py:475: ConvergenceWarning: Objective did not converge. You might want to increase the number of iterations. Duality gap: 0.04261097774947942, tolerance: 0.01607603856664009\n",
      "  positive)\n",
      "C:\\Users\\sachi\\Anaconda3\\lib\\site-packages\\sklearn\\linear_model\\coordinate_descent.py:475: ConvergenceWarning: Objective did not converge. You might want to increase the number of iterations. Duality gap: 0.02500369875076558, tolerance: 0.01567150326131653\n",
      "  positive)\n",
      "C:\\Users\\sachi\\Anaconda3\\lib\\site-packages\\sklearn\\linear_model\\coordinate_descent.py:475: ConvergenceWarning: Objective did not converge. You might want to increase the number of iterations. Duality gap: 0.04114971630630748, tolerance: 0.016434346835342496\n",
      "  positive)\n",
      "C:\\Users\\sachi\\Anaconda3\\lib\\site-packages\\sklearn\\linear_model\\coordinate_descent.py:475: ConvergenceWarning: Objective did not converge. You might want to increase the number of iterations. Duality gap: 0.042250643683200195, tolerance: 0.01607640421157488\n",
      "  positive)\n"
     ]
    },
    {
     "name": "stderr",
     "output_type": "stream",
     "text": [
      "C:\\Users\\sachi\\Anaconda3\\lib\\site-packages\\sklearn\\linear_model\\coordinate_descent.py:475: ConvergenceWarning: Objective did not converge. You might want to increase the number of iterations. Duality gap: 0.042381903500654516, tolerance: 0.015963894246953745\n",
      "  positive)\n",
      "C:\\Users\\sachi\\Anaconda3\\lib\\site-packages\\sklearn\\linear_model\\coordinate_descent.py:475: ConvergenceWarning: Objective did not converge. You might want to increase the number of iterations. Duality gap: 0.04253029893322591, tolerance: 0.01601240560312033\n",
      "  positive)\n",
      "C:\\Users\\sachi\\Anaconda3\\lib\\site-packages\\sklearn\\linear_model\\coordinate_descent.py:475: ConvergenceWarning: Objective did not converge. You might want to increase the number of iterations. Duality gap: 0.042312184018019394, tolerance: 0.01594471841655211\n",
      "  positive)\n",
      "C:\\Users\\sachi\\Anaconda3\\lib\\site-packages\\sklearn\\linear_model\\coordinate_descent.py:475: ConvergenceWarning: Objective did not converge. You might want to increase the number of iterations. Duality gap: 0.03253424410977246, tolerance: 0.016096200926674662\n",
      "  positive)\n"
     ]
    },
    {
     "data": {
      "text/plain": [
       "GridSearchCV(cv=15, error_score='raise-deprecating',\n",
       "             estimator=Lasso(alpha=1.0, copy_X=True, fit_intercept=True,\n",
       "                             max_iter=1000, normalize=False, positive=False,\n",
       "                             precompute=False, random_state=None,\n",
       "                             selection='cyclic', tol=0.0001, warm_start=False),\n",
       "             iid='warn', n_jobs=None,\n",
       "             param_grid={'alpha': [1e-15, 1e-10, 1e-08, 0.0001, 0.001, 0.01, 1,\n",
       "                                   10.0, 100.0, 1000.0, 10000.0, 100000.0,\n",
       "                                   1000000.0, 10000000.0]},\n",
       "             pre_dispatch='2*n_jobs', refit=True, return_train_score=False,\n",
       "             scoring='neg_mean_squared_error', verbose=0)"
      ]
     },
     "execution_count": 4,
     "metadata": {},
     "output_type": "execute_result"
    }
   ],
   "source": [
    "lasso = Lasso()\n",
    "params = {\"alpha\" : [1e-15,1e-10,1e-8,1e-4,1e-3,1e-2,1,1e1,1e2,1e3,1e4,1e5,1e6,1e7]}\n",
    "lasso_reg = GridSearchCV(lasso,param_grid=params,scoring = \"neg_mean_squared_error\",cv = 15)\n",
    "lasso_reg.fit(train_X,train_y)"
   ]
  },
  {
   "cell_type": "markdown",
   "metadata": {},
   "source": [
    "Ignore the warnings. Or you can set tolerence little bit higher.(this step can take longer time)."
   ]
  },
  {
   "cell_type": "code",
   "execution_count": 5,
   "metadata": {},
   "outputs": [
    {
     "name": "stdout",
     "output_type": "stream",
     "text": [
      "The best value of Alpha is: {'alpha': 0.001}\n"
     ]
    }
   ],
   "source": [
    "print(f'The best value of Alpha is: {lasso_reg.best_params_}')"
   ]
  },
  {
   "cell_type": "code",
   "execution_count": 6,
   "metadata": {},
   "outputs": [
    {
     "name": "stdout",
     "output_type": "stream",
     "text": [
      "Mean absolute error :  0.07357662654087944\n",
      "Mean sqaured error :  0.10715360617001987\n"
     ]
    }
   ],
   "source": [
    "lasso_mod=Lasso(alpha=0.001)\n",
    "lasso_mod.fit(train_X,train_y)\n",
    "val_predictions=lasso_mod.predict(val_X)\n",
    "print(\"Mean absolute error : \",mean_absolute_error(val_predictions,val_y))\n",
    "print(\"Mean sqaured error : \",math.sqrt(mean_squared_error(val_predictions,val_y)))"
   ]
  },
  {
   "cell_type": "code",
   "execution_count": 7,
   "metadata": {},
   "outputs": [
    {
     "data": {
      "image/png": "[encoded data removed]",
      "text/plain": [
       "<Figure size 432x288 with 1 Axes>"
      ]
     },
     "metadata": {
      "needs_background": "light"
     },
     "output_type": "display_data"
    }
   ],
   "source": [
    "coefs = pd.Series(lasso_mod.coef_, index = train_X.columns)\n",
    "\n",
    "imp_coefs = pd.concat([coefs.sort_values().head(10),\n",
    "                     coefs.sort_values().tail(10)])\n",
    "imp_coefs.plot(kind = \"barh\", color='yellowgreen')\n",
    "plt.xlabel(\"Lasso coefficient\", weight='bold')\n",
    "plt.title(\"Feature importance in the Lasso Model\", weight='bold')\n",
    "plt.show()"
   ]
  },
  {
   "cell_type": "code",
   "execution_count": 8,
   "metadata": {},
   "outputs": [
    {
     "name": "stderr",
     "output_type": "stream",
     "text": [
      "C:\\Users\\sachi\\Anaconda3\\lib\\site-packages\\sklearn\\linear_model\\coordinate_descent.py:475: ConvergenceWarning: Objective did not converge. You might want to increase the number of iterations. Duality gap: 0.047377144432536156, tolerance: 0.023265555325924073\n",
      "  positive)\n"
     ]
    }
   ],
   "source": [
    "lasso_mod.fit(X,y)\n",
    "final = lasso_mod.predict(test)\n",
    "final_exp = np.expm1(final)\n",
    "test_index = [i for i in range(1461,1461+1459)]\n",
    "output = pd.DataFrame({'Id': test_index,'SalePrice': final_exp})\n",
    "output.to_csv('submission_lasso.csv', index=False)"
   ]
  },
  {
   "cell_type": "markdown",
   "metadata": {},
   "source": [
    "Kaggle ranking for lasso was 1500"
   ]
  },
  {
   "cell_type": "markdown",
   "metadata": {},
   "source": [
    "### 3. Ridge Regression"
   ]
  },
  {
   "cell_type": "code",
   "execution_count": 9,
   "metadata": {},
   "outputs": [
    {
     "name": "stdout",
     "output_type": "stream",
     "text": [
      "The best value of Alpha is: {'alpha': 15}\n",
      "The best score achieved with Alpha=11 is: 0.11577830437608812\n"
     ]
    }
   ],
   "source": [
    "ridge=Ridge()\n",
    "parameters= {'alpha':[x for x in range(1,101)]}\n",
    "\n",
    "ridge_reg=GridSearchCV(ridge, param_grid=parameters, scoring='neg_mean_squared_error', cv=15)\n",
    "ridge_reg.fit(train_X,train_y)\n",
    "print(f\"The best value of Alpha is: {ridge_reg.best_params_}\")\n",
    "print(f\"The best score achieved with Alpha=11 is: {math.sqrt(-ridge_reg.best_score_)}\")\n",
    "ridge_pred=math.sqrt(-ridge_reg.best_score_)"
   ]
  },
  {
   "cell_type": "code",
   "execution_count": 10,
   "metadata": {},
   "outputs": [
    {
     "name": "stdout",
     "output_type": "stream",
     "text": [
      "Mean absolute error :  0.07508778788366889\n",
      "Mean sqaured error :  0.11036002923654906\n"
     ]
    }
   ],
   "source": [
    "ridge_mod=Ridge(alpha=15)\n",
    "ridge_mod.fit(train_X,train_y)\n",
    "val_predictions=ridge_mod.predict(val_X)\n",
    "print(\"Mean absolute error : \",mean_absolute_error(val_predictions,val_y))\n",
    "print(\"Mean sqaured error : \",math.sqrt(mean_squared_error(val_predictions,val_y))) "
   ]
  },
  {
   "cell_type": "code",
   "execution_count": 11,
   "metadata": {},
   "outputs": [],
   "source": [
    "ridge_mod = Ridge(alpha=15)\n",
    "ridge_mod.fit(X,y)\n",
    "final = ridge_mod.predict(test)\n",
    "final_exp = np.expm1(final)"
   ]
  },
  {
   "cell_type": "code",
   "execution_count": 12,
   "metadata": {},
   "outputs": [],
   "source": [
    "test_index = [i for i in range(1461,1461+1459)]\n",
    "output = pd.DataFrame({'Id': test_index,'SalePrice': final_exp})\n",
    "output.to_csv('submission_ridge.csv', index=False)"
   ]
  },
  {
   "cell_type": "markdown",
   "metadata": {},
   "source": [
    "Kaggle ranking 1500"
   ]
  },
  {
   "cell_type": "markdown",
   "metadata": {},
   "source": [
    "### 4.XG Boost ( Best Model )"
   ]
  },
  {
   "cell_type": "code",
   "execution_count": 13,
   "metadata": {},
   "outputs": [
    {
     "name": "stdout",
     "output_type": "stream",
     "text": [
      "Mean squared Error: 0.015420680537011127\n"
     ]
    }
   ],
   "source": [
    "my_model = XGBRegressor()\n",
    "my_model.fit(train_X, train_y)\n",
    "predictions = my_model.predict(val_X)\n",
    "print(\"Mean squared Error: \" + str(mean_squared_error(predictions, val_y)))"
   ]
  },
  {
   "cell_type": "code",
   "execution_count": 14,
   "metadata": {},
   "outputs": [],
   "source": [
    "my_model = my_model.fit(X,y)\n",
    "final = my_model.predict(test)\n",
    "final_exp = np.expm1(final)\n",
    "test_index = [i for i in range(1461,1461+1459)]\n",
    "output = pd.DataFrame({'Id': test_index,'SalePrice': final_exp})\n",
    "output.to_csv('submission_XGBoost.csv', index=False)"
   ]
  },
  {
   "cell_type": "markdown",
   "metadata": {},
   "source": [
    "## This got public score of .14586 in kaggle and ranking is 708(top 2%) (Best Model)"
   ]
  },
  {
   "cell_type": "markdown",
   "metadata": {},
   "source": [
    "### 5. Random Forest Regressor"
   ]
  },
  {
   "cell_type": "code",
   "execution_count": 15,
   "metadata": {},
   "outputs": [
    {
     "name": "stdout",
     "output_type": "stream",
     "text": [
      "Mean squared Error: 0.01653467411734553\n"
     ]
    }
   ],
   "source": [
    "model = RandomForestRegressor(n_estimators=100, random_state=0)\n",
    "model.fit(train_X, train_y)\n",
    "predictions = model.predict(val_X)\n",
    "print(\"Mean squared Error: \" + str(mean_squared_error(predictions, val_y)))"
   ]
  },
  {
   "cell_type": "code",
   "execution_count": 16,
   "metadata": {},
   "outputs": [],
   "source": [
    "my_model = my_model.fit(X,y)\n",
    "final = my_model.predict(test)\n",
    "final_exp = np.expm1(final)\n",
    "test_index = [i for i in range(1461,1461+1459)]\n",
    "output = pd.DataFrame({'Id': test_index,'SalePrice': final_exp})\n",
    "output.to_csv('submission_RForest.csv', index=False)"
   ]
  },
  {
   "cell_type": "markdown",
   "metadata": {},
   "source": [
    "Ranking for this model 2546"
   ]
  },
  {
   "cell_type": "markdown",
   "metadata": {},
   "source": [
    "### 6. Elastic Net "
   ]
  },
  {
   "cell_type": "code",
   "execution_count": null,
   "metadata": {},
   "outputs": [],
   "source": [
    "from sklearn.linear_model import ElasticNetCV\n",
    "alphas = [0.000542555]\n",
    "l1ratio = [0.1, 0.3,0.5, 0.9, 0.95, 0.99, 1]\n",
    "elastic_cv = ElasticNetCV(cv=5, max_iter=1e7, alphas=alphas,  l1_ratio=l1ratio)\n",
    "elastic_mod = elastic_cv.fit(train_X, train_y)\n",
    "predictions = elastic_mod.predict(val_X)\n",
    "print(\"Mean squared Error: \" + str(mean_squared_error(predictions, val_y)))"
   ]
  },
  {
   "cell_type": "code",
   "execution_count": null,
   "metadata": {},
   "outputs": [],
   "source": [
    "final = elastic_cv.predict(test)\n",
    "final_exp = np.expm1(final)\n",
    "test_index = [i for i in range(1461,1461+1459)]\n",
    "output = pd.DataFrame({'Id': test_index,'SalePrice': final_exp})\n",
    "output.to_csv('submission_ElasticNet.csv', index=False)"
   ]
  },
  {
   "cell_type": "markdown",
   "metadata": {},
   "source": [
    "Got the ranking of 1587"
   ]
  }
 ],
 "metadata": {
  "kernelspec": {
   "display_name": "Python 3",
   "language": "python",
   "name": "python3"
  },
  "language_info": {
   "codemirror_mode": {
    "name": "ipython",
    "version": 3
   },
   "file_extension": ".py",
   "mimetype": "text/x-python",
   "name": "python",
   "nbconvert_exporter": "python",
   "pygments_lexer": "ipython3",
   "version": "3.7.3"
  }
 },
 "nbformat": 4,
 "nbformat_minor": 2
}
