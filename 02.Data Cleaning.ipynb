{
 "cells": [
  {
   "cell_type": "markdown",
   "metadata": {},
   "source": [
    "# Data Cleaning"
   ]
  },
  {
   "cell_type": "code",
   "execution_count": 1,
   "metadata": {},
   "outputs": [],
   "source": [
    "import pandas as pd \n",
    "import numpy as np\n",
    "import seaborn as sns\n",
    "from sklearn.impute import SimpleImputer\n",
    "from sklearn.preprocessing import LabelEncoder\n",
    "import matplotlib.pyplot as plt\n",
    "train = pd.read_csv('./Data/train.csv')\n",
    "test = pd.read_csv('./Data/test.csv')"
   ]
  },
  {
   "cell_type": "markdown",
   "metadata": {},
   "source": [
    "Combine the both test and train "
   ]
  },
  {
   "cell_type": "code",
   "execution_count": 2,
   "metadata": {},
   "outputs": [
    {
     "data": {
      "text/plain": [
       "(2919, 79)"
      ]
     },
     "execution_count": 2,
     "metadata": {},
     "output_type": "execute_result"
    }
   ],
   "source": [
    "combined = pd.concat((train,test), sort=False).reset_index(drop=True)\n",
    "combined.drop(['SalePrice'],axis = 1,inplace = True)\n",
    "combined.drop(['Id'],axis = 1,inplace = True)\n",
    "combined.shape"
   ]
  },
  {
   "cell_type": "code",
   "execution_count": 3,
   "metadata": {},
   "outputs": [
    {
     "name": "stdout",
     "output_type": "stream",
     "text": [
      "Columns that have missing value : \n",
      "['LotFrontage', 'Alley', 'MasVnrType', 'MasVnrArea', 'BsmtQual', 'BsmtCond', 'BsmtExposure', 'BsmtFinType1', 'BsmtFinType2', 'Electrical', 'FireplaceQu', 'GarageType', 'GarageYrBlt', 'GarageFinish', 'GarageQual', 'GarageCond', 'PoolQC', 'Fence', 'MiscFeature']\n"
     ]
    }
   ],
   "source": [
    "cols_with_missing = [col for col in combined.columns if train[col].isnull().any()]\n",
    "print(\"Columns that have missing value : \")\n",
    "print(cols_with_missing)"
   ]
  },
  {
   "cell_type": "code",
   "execution_count": 4,
   "metadata": {},
   "outputs": [
    {
     "name": "stdout",
     "output_type": "stream",
     "text": [
      "Columns which has more than 20% missing values :\n",
      "             Total   Percent\n",
      "PoolQC        2909  0.996574\n",
      "MiscFeature   2814  0.964029\n",
      "Alley         2721  0.932169\n",
      "Fence         2348  0.804385\n",
      "FireplaceQu   1420  0.486468\n"
     ]
    }
   ],
   "source": [
    "total = combined.isnull().sum().sort_values(ascending=False)\n",
    "percent = (combined.isnull().sum()/combined.isnull().count()).sort_values(ascending=False)\n",
    "missing_data = pd.concat([total, percent], axis=1, keys=['Total', 'Percent'])\n",
    "greater_than_20 = missing_data[missing_data.Percent > .20]\n",
    "print('Columns which has more than 20% missing values :')\n",
    "print(greater_than_20)"
   ]
  },
  {
   "cell_type": "markdown",
   "metadata": {},
   "source": [
    "#### Deleting the colums which has more than 20% missing values"
   ]
  },
  {
   "cell_type": "code",
   "execution_count": 6,
   "metadata": {},
   "outputs": [
    {
     "name": "stdout",
     "output_type": "stream",
     "text": [
      "Shape of data after deleting columns (2919, 74).\n"
     ]
    }
   ],
   "source": [
    "combined = combined.drop(greater_than_20.index,axis = 1)\n",
    "print(f'Shape of data after deleting columns {combined.shape}.')"
   ]
  },
  {
   "cell_type": "markdown",
   "metadata": {},
   "source": [
    "#### We Still have some missing values"
   ]
  },
  {
   "cell_type": "code",
   "execution_count": 7,
   "metadata": {},
   "outputs": [
    {
     "data": {
      "image/png": "[encoded data removed]",
      "text/plain": [
       "<Figure size 864x432 with 1 Axes>"
      ]
     },
     "metadata": {
      "needs_background": "light"
     },
     "output_type": "display_data"
    }
   ],
   "source": [
    "total = combined.isnull().sum().sort_values(ascending=False)\n",
    "percent = (combined.isnull().sum()/combined.isnull().count()).sort_values(ascending=False)\n",
    "missing_data = pd.concat([total, percent], axis=1, keys=['Total', 'Percent'])\n",
    "missing = missing_data [missing_data.Percent>0.0]\n",
    "plt.figure(figsize=(12,6))\n",
    "ax = sns.barplot(x=\"Percent\" , y=missing.index , data=missing)"
   ]
  },
  {
   "cell_type": "code",
   "execution_count": 8,
   "metadata": {},
   "outputs": [
    {
     "name": "stdout",
     "output_type": "stream",
     "text": [
      "      BsmtUnfSF  GarageArea  GarageCars KitchenQual Electrical  TotalBsmtSF  \\\n",
      "0         150.0       548.0         2.0          Gd      SBrkr        856.0   \n",
      "1         284.0       460.0         2.0          TA      SBrkr       1262.0   \n",
      "2         434.0       608.0         2.0          Gd      SBrkr        920.0   \n",
      "3         540.0       642.0         3.0          Gd      SBrkr        756.0   \n",
      "4         490.0       836.0         3.0          Gd      SBrkr       1145.0   \n",
      "5          64.0       480.0         2.0          TA      SBrkr        796.0   \n",
      "6         317.0       636.0         2.0          Gd      SBrkr       1686.0   \n",
      "7         216.0       484.0         2.0          TA      SBrkr       1107.0   \n",
      "8         952.0       468.0         2.0          TA      FuseF        952.0   \n",
      "9         140.0       205.0         1.0          TA      SBrkr        991.0   \n",
      "10        134.0       384.0         1.0          TA      SBrkr       1040.0   \n",
      "11        177.0       736.0         3.0          Ex      SBrkr       1175.0   \n",
      "12        175.0       352.0         1.0          TA      SBrkr        912.0   \n",
      "13       1494.0       840.0         3.0          Gd      SBrkr       1494.0   \n",
      "14        520.0       352.0         1.0          TA      SBrkr       1253.0   \n",
      "15        832.0       576.0         2.0          TA      FuseA        832.0   \n",
      "16        426.0       480.0         2.0          TA      SBrkr       1004.0   \n",
      "17          0.0       516.0         2.0          TA      SBrkr          0.0   \n",
      "18        468.0       576.0         2.0          Gd      SBrkr       1114.0   \n",
      "19        525.0       294.0         1.0          TA      SBrkr       1029.0   \n",
      "20       1158.0       853.0         3.0          Gd      SBrkr       1158.0   \n",
      "21        637.0       280.0         1.0          Gd      FuseF        637.0   \n",
      "22       1777.0       534.0         2.0          Gd      SBrkr       1777.0   \n",
      "23        200.0       572.0         2.0          TA      SBrkr       1040.0   \n",
      "24        204.0       270.0         1.0          Gd      SBrkr       1060.0   \n",
      "25       1566.0       890.0         3.0          Gd      SBrkr       1566.0   \n",
      "26        180.0       576.0         2.0          Gd      SBrkr        900.0   \n",
      "27        486.0       772.0         3.0          Gd      SBrkr       1704.0   \n",
      "28        207.0       319.0         1.0          TA      SBrkr       1484.0   \n",
      "29        520.0       240.0         1.0          Fa      SBrkr        520.0   \n",
      "...         ...         ...         ...         ...        ...          ...   \n",
      "2889      641.0       272.0         1.0          Fa      SBrkr        641.0   \n",
      "2890      967.0       384.0         1.0          Gd      SBrkr        967.0   \n",
      "2891        0.0         0.0         0.0          TA      SBrkr          0.0   \n",
      "2892      660.0         0.0         0.0          TA      SBrkr        660.0   \n",
      "2893      216.0         0.0         0.0          TA      SBrkr        216.0   \n",
      "2894        0.0       495.0         2.0          Ex      SBrkr       1573.0   \n",
      "2895       30.0       525.0         2.0          Gd      SBrkr       1594.0   \n",
      "2896      849.0       576.0         2.0          Fa      SBrkr       1625.0   \n",
      "2897     1664.0       616.0         2.0          TA      SBrkr       1664.0   \n",
      "2898     1491.0       490.0         2.0          Gd      SBrkr       1491.0   \n",
      "2899      552.0       528.0         2.0          TA      SBrkr       1128.0   \n",
      "2900      723.0       518.0         2.0          TA      SBrkr       1632.0   \n",
      "2901      129.0       470.0         2.0          Gd      SBrkr       1381.0   \n",
      "2902      378.0       714.0         3.0          Gd      SBrkr       1728.0   \n",
      "2903      383.0       682.0         3.0          Ex      SBrkr       1838.0   \n",
      "2904        0.0       270.0         1.0          TA      FuseA          0.0   \n",
      "2905       45.0       784.0         4.0          TA      SBrkr       1288.0   \n",
      "2906      264.0       336.0         1.0          TA      SBrkr        264.0   \n",
      "2907      423.0       288.0         1.0          TA      SBrkr        864.0   \n",
      "2908     1503.0       928.0         3.0          TA      SBrkr       1652.0   \n",
      "2909      108.0         0.0         0.0          TA      SBrkr        630.0   \n",
      "2910      294.0       253.0         1.0          TA      SBrkr        546.0   \n",
      "2911      641.0       336.0         1.0          TA      SBrkr       1104.0   \n",
      "2912      138.0       286.0         1.0          TA      SBrkr        546.0   \n",
      "2913      546.0         0.0         0.0          TA      SBrkr        546.0   \n",
      "2914      546.0         0.0         0.0          TA      SBrkr        546.0   \n",
      "2915      294.0       286.0         1.0          TA      SBrkr        546.0   \n",
      "2916        0.0       576.0         2.0          TA      SBrkr       1224.0   \n",
      "2917      575.0         0.0         0.0          TA      SBrkr        912.0   \n",
      "2918      238.0       650.0         3.0          TA      SBrkr        996.0   \n",
      "\n",
      "      BsmtFinSF2  BsmtFinSF1 SaleType Exterior1st  ... BsmtFinType2  BsmtQual  \\\n",
      "0            0.0       706.0       WD     VinylSd  ...          Unf        Gd   \n",
      "1            0.0       978.0       WD     MetalSd  ...          Unf        Gd   \n",
      "2            0.0       486.0       WD     VinylSd  ...          Unf        Gd   \n",
      "3            0.0       216.0       WD     Wd Sdng  ...          Unf        TA   \n",
      "4            0.0       655.0       WD     VinylSd  ...          Unf        Gd   \n",
      "5            0.0       732.0       WD     VinylSd  ...          Unf        Gd   \n",
      "6            0.0      1369.0       WD     VinylSd  ...          Unf        Ex   \n",
      "7           32.0       859.0       WD     HdBoard  ...          BLQ        Gd   \n",
      "8            0.0         0.0       WD     BrkFace  ...          Unf        TA   \n",
      "9            0.0       851.0       WD     MetalSd  ...          Unf        TA   \n",
      "10           0.0       906.0       WD     HdBoard  ...          Unf        TA   \n",
      "11           0.0       998.0      New     WdShing  ...          Unf        Ex   \n",
      "12           0.0       737.0       WD     HdBoard  ...          Unf        TA   \n",
      "13           0.0         0.0      New     VinylSd  ...          Unf        Gd   \n",
      "14           0.0       733.0       WD     MetalSd  ...          Unf        TA   \n",
      "15           0.0         0.0       WD     Wd Sdng  ...          Unf        TA   \n",
      "16           0.0       578.0       WD     Wd Sdng  ...          Unf        TA   \n",
      "17           0.0         0.0       WD     MetalSd  ...          NaN       NaN   \n",
      "18           0.0       646.0       WD     VinylSd  ...          Unf        TA   \n",
      "19           0.0       504.0      COD     BrkFace  ...          Unf        TA   \n",
      "20           0.0         0.0      New     VinylSd  ...          Unf        Ex   \n",
      "21           0.0         0.0       WD     Wd Sdng  ...          Unf        TA   \n",
      "22           0.0         0.0       WD     VinylSd  ...          Unf        Gd   \n",
      "23           0.0       840.0       WD     CemntBd  ...          Unf        Gd   \n",
      "24         668.0       188.0       WD     Plywood  ...          ALQ        TA   \n",
      "25           0.0         0.0       WD     VinylSd  ...          Unf        Gd   \n",
      "26         486.0       234.0       WD     Wd Sdng  ...          Rec        TA   \n",
      "27           0.0      1218.0       WD     VinylSd  ...          Unf        Ex   \n",
      "28           0.0      1277.0       WD     MetalSd  ...          Unf        TA   \n",
      "29           0.0         0.0       WD     MetalSd  ...          Unf        TA   \n",
      "...          ...         ...      ...         ...  ...          ...       ...   \n",
      "2889         0.0         0.0       WD     MetalSd  ...          Unf        TA   \n",
      "2890         0.0         0.0       WD     MetalSd  ...          Unf        TA   \n",
      "2891         0.0         0.0       WD     Wd Sdng  ...          NaN       NaN   \n",
      "2892         0.0         0.0       WD     WdShing  ...          Unf        TA   \n",
      "2893         0.0         0.0       WD     MetalSd  ...          Unf        Fa   \n",
      "2894         0.0      1573.0      New     CemntBd  ...          Unf        Ex   \n",
      "2895         0.0      1564.0       WD     CemntBd  ...          Unf        Ex   \n",
      "2896         0.0       776.0       WD     Plywood  ...          Unf        Gd   \n",
      "2897         0.0         0.0       WD     Plywood  ...          Unf        TA   \n",
      "2898         0.0         0.0       WD     VinylSd  ...          Unf        Ex   \n",
      "2899         0.0       576.0       WD     Plywood  ...          Unf        TA   \n",
      "2900         0.0       909.0       WD     Plywood  ...          Unf        Gd   \n",
      "2901       116.0      1136.0       WD     VinylSd  ...          BLQ        Gd   \n",
      "2902         0.0      1350.0      New     VinylSd  ...          Unf        Ex   \n",
      "2903         0.0      1455.0      New     VinylSd  ...          Unf        Gd   \n",
      "2904         0.0         0.0       WD      CBlock  ...          NaN       NaN   \n",
      "2905         0.0      1243.0       WD     MetalSd  ...          Unf        Gd   \n",
      "2906         0.0         0.0       WD     CemntBd  ...          Unf        Gd   \n",
      "2907         0.0       441.0       WD     Plywood  ...          Unf        TA   \n",
      "2908         0.0       149.0       WD     Plywood  ...          Unf        TA   \n",
      "2909         0.0       522.0       WD     CemntBd  ...          Unf        Gd   \n",
      "2910         0.0       252.0       WD     CemntBd  ...          Unf        TA   \n",
      "2911       344.0       119.0       WD     Plywood  ...          BLQ        TA   \n",
      "2912         0.0       408.0       WD     CemntBd  ...          Unf        TA   \n",
      "2913         0.0         0.0       WD     CemntBd  ...          Unf        TA   \n",
      "2914         0.0         0.0       WD     CemntBd  ...          Unf        TA   \n",
      "2915         0.0       252.0       WD     CemntBd  ...          Unf        TA   \n",
      "2916         0.0      1224.0       WD     VinylSd  ...          Unf        TA   \n",
      "2917         0.0       337.0       WD     HdBoard  ...          Unf        Gd   \n",
      "2918         0.0       758.0       WD     HdBoard  ...          Unf        Gd   \n",
      "\n",
      "     BsmtCond BsmtExposure  GarageType GarageCond  GarageYrBlt GarageFinish  \\\n",
      "0          TA           No      Attchd         TA       2003.0          RFn   \n",
      "1          TA           Gd      Attchd         TA       1976.0          RFn   \n",
      "2          TA           Mn      Attchd         TA       2001.0          RFn   \n",
      "3          Gd           No      Detchd         TA       1998.0          Unf   \n",
      "4          TA           Av      Attchd         TA       2000.0          RFn   \n",
      "5          TA           No      Attchd         TA       1993.0          Unf   \n",
      "6          TA           Av      Attchd         TA       2004.0          RFn   \n",
      "7          TA           Mn      Attchd         TA       1973.0          RFn   \n",
      "8          TA           No      Detchd         TA       1931.0          Unf   \n",
      "9          TA           No      Attchd         TA       1939.0          RFn   \n",
      "10         TA           No      Detchd         TA       1965.0          Unf   \n",
      "11         TA           No     BuiltIn         TA       2005.0          Fin   \n",
      "12         TA           No      Detchd         TA       1962.0          Unf   \n",
      "13         TA           Av      Attchd         TA       2006.0          RFn   \n",
      "14         TA           No      Attchd         TA       1960.0          RFn   \n",
      "15         TA           No      Detchd         TA       1991.0          Unf   \n",
      "16         TA           No      Attchd         TA       1970.0          Fin   \n",
      "17        NaN          NaN     CarPort         TA       1967.0          Unf   \n",
      "18         TA           No      Detchd         TA       2004.0          Unf   \n",
      "19         TA           No      Attchd         TA       1958.0          Unf   \n",
      "20         TA           Av     BuiltIn         TA       2005.0          RFn   \n",
      "21         TA           No      Attchd         TA       1930.0          Unf   \n",
      "22         TA           No      Attchd         TA       2002.0          RFn   \n",
      "23         TA           No      Attchd         TA       1976.0          Unf   \n",
      "24         TA           Mn      Attchd         TA       1968.0          Unf   \n",
      "25         TA           No      Attchd         TA       2007.0          RFn   \n",
      "26         TA           Mn      Detchd         TA       2005.0          Unf   \n",
      "27         TA           No      Attchd         TA       2008.0          RFn   \n",
      "28         TA           Gd      Attchd         TA       1957.0          RFn   \n",
      "29         TA           No      Detchd         TA       1920.0          Unf   \n",
      "...       ...          ...         ...        ...          ...          ...   \n",
      "2889       TA           No      Detchd         TA       1925.0          Unf   \n",
      "2890       TA           No      Detchd         TA       1957.0          Unf   \n",
      "2891      NaN          NaN         NaN        NaN          NaN          NaN   \n",
      "2892       TA           Mn         NaN        NaN          NaN          NaN   \n",
      "2893       Fa           No         NaN        NaN          NaN          NaN   \n",
      "2894       TA           Gd      Attchd         TA       2005.0          Fin   \n",
      "2895       TA           Gd      Attchd         TA       2004.0          Fin   \n",
      "2896       TA           Gd      Attchd         TA       1979.0          Fin   \n",
      "2897       TA           Mn      2Types         TA       1978.0          Unf   \n",
      "2898       TA           No      Attchd         TA       2001.0          RFn   \n",
      "2899       TA           Av      Attchd         TA       1975.0          Unf   \n",
      "2900       TA           Gd      Attchd         TA       1958.0          Unf   \n",
      "2901       TA           Av      Attchd         TA       2000.0          Unf   \n",
      "2902       Gd           Av      Attchd         TA       2005.0          Fin   \n",
      "2903       TA           Gd      Attchd         TA       2005.0          Fin   \n",
      "2904      NaN          NaN      Attchd         TA       1951.0          Unf   \n",
      "2905       TA           Gd      Attchd         TA       1997.0          Fin   \n",
      "2906       TA           Mn     BuiltIn         TA       1977.0          RFn   \n",
      "2907       TA           No      Attchd         TA       1968.0          RFn   \n",
      "2908       TA           No      2Types         TA       1970.0          Unf   \n",
      "2909       TA           Av         NaN        NaN          NaN          NaN   \n",
      "2910       TA           No      Attchd         Fa       1972.0          Unf   \n",
      "2911       TA           Av      Attchd         TA       1969.0          RFn   \n",
      "2912       TA           No     CarPort         TA       1970.0          Unf   \n",
      "2913       TA           No         NaN        NaN          NaN          NaN   \n",
      "2914       TA           No         NaN        NaN          NaN          NaN   \n",
      "2915       TA           No     CarPort         TA       1970.0          Unf   \n",
      "2916       TA           No      Detchd         TA       1960.0          Unf   \n",
      "2917       TA           Av         NaN        NaN          NaN          NaN   \n",
      "2918       TA           Av      Attchd         TA       1993.0          Fin   \n",
      "\n",
      "     GarageQual LotFrontage  \n",
      "0            TA        65.0  \n",
      "1            TA        80.0  \n",
      "2            TA        68.0  \n",
      "3            TA        60.0  \n",
      "4            TA        84.0  \n",
      "5            TA        85.0  \n",
      "6            TA        75.0  \n",
      "7            TA         NaN  \n",
      "8            Fa        51.0  \n",
      "9            Gd        50.0  \n",
      "10           TA        70.0  \n",
      "11           TA        85.0  \n",
      "12           TA         NaN  \n",
      "13           TA        91.0  \n",
      "14           TA         NaN  \n",
      "15           TA        51.0  \n",
      "16           TA         NaN  \n",
      "17           TA        72.0  \n",
      "18           TA        66.0  \n",
      "19           TA        70.0  \n",
      "20           TA       101.0  \n",
      "21           TA        57.0  \n",
      "22           TA        75.0  \n",
      "23           TA        44.0  \n",
      "24           TA         NaN  \n",
      "25           TA       110.0  \n",
      "26           TA        60.0  \n",
      "27           TA        98.0  \n",
      "28           TA        47.0  \n",
      "29           Fa        60.0  \n",
      "...         ...         ...  \n",
      "2889         TA        50.0  \n",
      "2890         TA        75.0  \n",
      "2891        NaN        69.0  \n",
      "2892        NaN        50.0  \n",
      "2893        NaN        60.0  \n",
      "2894         TA        41.0  \n",
      "2895         TA        44.0  \n",
      "2896         TA        69.0  \n",
      "2897         TA        65.0  \n",
      "2898         TA        70.0  \n",
      "2899         TA       140.0  \n",
      "2900         TA         NaN  \n",
      "2901         TA         NaN  \n",
      "2902         TA        95.0  \n",
      "2903         TA        88.0  \n",
      "2904         Fa       125.0  \n",
      "2905         TA        78.0  \n",
      "2906         TA        41.0  \n",
      "2907         TA        58.0  \n",
      "2908         TA         NaN  \n",
      "2909        NaN        21.0  \n",
      "2910         TA        21.0  \n",
      "2911         TA        80.0  \n",
      "2912         TA        21.0  \n",
      "2913        NaN        21.0  \n",
      "2914        NaN        21.0  \n",
      "2915         TA        21.0  \n",
      "2916         TA       160.0  \n",
      "2917        NaN        62.0  \n",
      "2918         TA        74.0  \n",
      "\n",
      "[2919 rows x 29 columns]\n"
     ]
    }
   ],
   "source": [
    "allna = (combined.isnull().sum() / len(combined))*100\n",
    "allna = allna.drop(allna[allna == 0].index).sort_values()\n",
    "NA=combined[allna.index.to_list()]\n",
    "print(NA)"
   ]
  },
  {
   "cell_type": "markdown",
   "metadata": {},
   "source": [
    "Split the data Nan columns into the numerical and categorical "
   ]
  },
  {
   "cell_type": "code",
   "execution_count": 9,
   "metadata": {},
   "outputs": [
    {
     "name": "stdout",
     "output_type": "stream",
     "text": [
      "We have 18 categorical variables with missing values.\n",
      "We have 11 numerical variables with missing values.\n"
     ]
    }
   ],
   "source": [
    "NAcat = NA.select_dtypes(include=\"object\")\n",
    "NAnum = NA.select_dtypes(exclude=\"object\")\n",
    "print(f'We have {NAcat.shape[1]} categorical variables with missing values.')\n",
    "print(f'We have {NAnum.shape[1]} numerical variables with missing values.')"
   ]
  },
  {
   "cell_type": "markdown",
   "metadata": {},
   "source": [
    "#### Numerical Data"
   ]
  },
  {
   "cell_type": "code",
   "execution_count": 10,
   "metadata": {},
   "outputs": [
    {
     "data": {
      "text/html": [
       "<div>\n",
       "<style scoped>\n",
       "    .dataframe tbody tr th:only-of-type {\n",
       "        vertical-align: middle;\n",
       "    }\n",
       "\n",
       "    .dataframe tbody tr th {\n",
       "        vertical-align: top;\n",
       "    }\n",
       "\n",
       "    .dataframe thead th {\n",
       "        text-align: right;\n",
       "    }\n",
       "</style>\n",
       "<table border=\"1\" class=\"dataframe\">\n",
       "  <thead>\n",
       "    <tr style=\"text-align: right;\">\n",
       "      <th></th>\n",
       "      <th>BsmtUnfSF</th>\n",
       "      <th>GarageArea</th>\n",
       "      <th>GarageCars</th>\n",
       "      <th>TotalBsmtSF</th>\n",
       "      <th>BsmtFinSF2</th>\n",
       "      <th>BsmtFinSF1</th>\n",
       "      <th>BsmtHalfBath</th>\n",
       "      <th>BsmtFullBath</th>\n",
       "      <th>MasVnrArea</th>\n",
       "      <th>GarageYrBlt</th>\n",
       "      <th>LotFrontage</th>\n",
       "    </tr>\n",
       "  </thead>\n",
       "  <tbody>\n",
       "    <tr>\n",
       "      <th>0</th>\n",
       "      <td>150.0</td>\n",
       "      <td>548.0</td>\n",
       "      <td>2.0</td>\n",
       "      <td>856.0</td>\n",
       "      <td>0.0</td>\n",
       "      <td>706.0</td>\n",
       "      <td>0.0</td>\n",
       "      <td>1.0</td>\n",
       "      <td>196.0</td>\n",
       "      <td>2003.0</td>\n",
       "      <td>65.0</td>\n",
       "    </tr>\n",
       "    <tr>\n",
       "      <th>1</th>\n",
       "      <td>284.0</td>\n",
       "      <td>460.0</td>\n",
       "      <td>2.0</td>\n",
       "      <td>1262.0</td>\n",
       "      <td>0.0</td>\n",
       "      <td>978.0</td>\n",
       "      <td>1.0</td>\n",
       "      <td>0.0</td>\n",
       "      <td>0.0</td>\n",
       "      <td>1976.0</td>\n",
       "      <td>80.0</td>\n",
       "    </tr>\n",
       "    <tr>\n",
       "      <th>2</th>\n",
       "      <td>434.0</td>\n",
       "      <td>608.0</td>\n",
       "      <td>2.0</td>\n",
       "      <td>920.0</td>\n",
       "      <td>0.0</td>\n",
       "      <td>486.0</td>\n",
       "      <td>0.0</td>\n",
       "      <td>1.0</td>\n",
       "      <td>162.0</td>\n",
       "      <td>2001.0</td>\n",
       "      <td>68.0</td>\n",
       "    </tr>\n",
       "    <tr>\n",
       "      <th>3</th>\n",
       "      <td>540.0</td>\n",
       "      <td>642.0</td>\n",
       "      <td>3.0</td>\n",
       "      <td>756.0</td>\n",
       "      <td>0.0</td>\n",
       "      <td>216.0</td>\n",
       "      <td>0.0</td>\n",
       "      <td>1.0</td>\n",
       "      <td>0.0</td>\n",
       "      <td>1998.0</td>\n",
       "      <td>60.0</td>\n",
       "    </tr>\n",
       "    <tr>\n",
       "      <th>4</th>\n",
       "      <td>490.0</td>\n",
       "      <td>836.0</td>\n",
       "      <td>3.0</td>\n",
       "      <td>1145.0</td>\n",
       "      <td>0.0</td>\n",
       "      <td>655.0</td>\n",
       "      <td>0.0</td>\n",
       "      <td>1.0</td>\n",
       "      <td>350.0</td>\n",
       "      <td>2000.0</td>\n",
       "      <td>84.0</td>\n",
       "    </tr>\n",
       "  </tbody>\n",
       "</table>\n",
       "</div>"
      ],
      "text/plain": [
       "   BsmtUnfSF  GarageArea  GarageCars  TotalBsmtSF  BsmtFinSF2  BsmtFinSF1  \\\n",
       "0      150.0       548.0         2.0        856.0         0.0       706.0   \n",
       "1      284.0       460.0         2.0       1262.0         0.0       978.0   \n",
       "2      434.0       608.0         2.0        920.0         0.0       486.0   \n",
       "3      540.0       642.0         3.0        756.0         0.0       216.0   \n",
       "4      490.0       836.0         3.0       1145.0         0.0       655.0   \n",
       "\n",
       "   BsmtHalfBath  BsmtFullBath  MasVnrArea  GarageYrBlt  LotFrontage  \n",
       "0           0.0           1.0       196.0       2003.0         65.0  \n",
       "1           1.0           0.0         0.0       1976.0         80.0  \n",
       "2           0.0           1.0       162.0       2001.0         68.0  \n",
       "3           0.0           1.0         0.0       1998.0         60.0  \n",
       "4           0.0           1.0       350.0       2000.0         84.0  "
      ]
     },
     "execution_count": 10,
     "metadata": {},
     "output_type": "execute_result"
    }
   ],
   "source": [
    "NAnum.head()"
   ]
  },
  {
   "cell_type": "code",
   "execution_count": 11,
   "metadata": {},
   "outputs": [],
   "source": [
    "# we can make veneer area to be zero if it is missing\n",
    "combined['MasVnrArea']=combined.MasVnrArea.fillna(0)\n",
    "combined['LotFrontage']=combined.LotFrontage.fillna(combined.LotFrontage.median())\n",
    "# if the year is missing then lets make it 1980\n",
    "combined['GarageYrBlt']=combined[\"GarageYrBlt\"].fillna(1980)"
   ]
  },
  {
   "cell_type": "markdown",
   "metadata": {},
   "source": [
    "#### Categorical Data"
   ]
  },
  {
   "cell_type": "code",
   "execution_count": 12,
   "metadata": {},
   "outputs": [
    {
     "data": {
      "text/html": [
       "<div>\n",
       "<style scoped>\n",
       "    .dataframe tbody tr th:only-of-type {\n",
       "        vertical-align: middle;\n",
       "    }\n",
       "\n",
       "    .dataframe tbody tr th {\n",
       "        vertical-align: top;\n",
       "    }\n",
       "\n",
       "    .dataframe thead th {\n",
       "        text-align: right;\n",
       "    }\n",
       "</style>\n",
       "<table border=\"1\" class=\"dataframe\">\n",
       "  <thead>\n",
       "    <tr style=\"text-align: right;\">\n",
       "      <th></th>\n",
       "      <th>KitchenQual</th>\n",
       "      <th>Electrical</th>\n",
       "      <th>SaleType</th>\n",
       "      <th>Exterior1st</th>\n",
       "      <th>Exterior2nd</th>\n",
       "      <th>Utilities</th>\n",
       "      <th>Functional</th>\n",
       "      <th>MSZoning</th>\n",
       "      <th>MasVnrType</th>\n",
       "      <th>BsmtFinType1</th>\n",
       "      <th>BsmtFinType2</th>\n",
       "      <th>BsmtQual</th>\n",
       "      <th>BsmtCond</th>\n",
       "      <th>BsmtExposure</th>\n",
       "      <th>GarageType</th>\n",
       "      <th>GarageCond</th>\n",
       "      <th>GarageFinish</th>\n",
       "      <th>GarageQual</th>\n",
       "    </tr>\n",
       "  </thead>\n",
       "  <tbody>\n",
       "    <tr>\n",
       "      <th>0</th>\n",
       "      <td>Gd</td>\n",
       "      <td>SBrkr</td>\n",
       "      <td>WD</td>\n",
       "      <td>VinylSd</td>\n",
       "      <td>VinylSd</td>\n",
       "      <td>AllPub</td>\n",
       "      <td>Typ</td>\n",
       "      <td>RL</td>\n",
       "      <td>BrkFace</td>\n",
       "      <td>GLQ</td>\n",
       "      <td>Unf</td>\n",
       "      <td>Gd</td>\n",
       "      <td>TA</td>\n",
       "      <td>No</td>\n",
       "      <td>Attchd</td>\n",
       "      <td>TA</td>\n",
       "      <td>RFn</td>\n",
       "      <td>TA</td>\n",
       "    </tr>\n",
       "    <tr>\n",
       "      <th>1</th>\n",
       "      <td>TA</td>\n",
       "      <td>SBrkr</td>\n",
       "      <td>WD</td>\n",
       "      <td>MetalSd</td>\n",
       "      <td>MetalSd</td>\n",
       "      <td>AllPub</td>\n",
       "      <td>Typ</td>\n",
       "      <td>RL</td>\n",
       "      <td>None</td>\n",
       "      <td>ALQ</td>\n",
       "      <td>Unf</td>\n",
       "      <td>Gd</td>\n",
       "      <td>TA</td>\n",
       "      <td>Gd</td>\n",
       "      <td>Attchd</td>\n",
       "      <td>TA</td>\n",
       "      <td>RFn</td>\n",
       "      <td>TA</td>\n",
       "    </tr>\n",
       "    <tr>\n",
       "      <th>2</th>\n",
       "      <td>Gd</td>\n",
       "      <td>SBrkr</td>\n",
       "      <td>WD</td>\n",
       "      <td>VinylSd</td>\n",
       "      <td>VinylSd</td>\n",
       "      <td>AllPub</td>\n",
       "      <td>Typ</td>\n",
       "      <td>RL</td>\n",
       "      <td>BrkFace</td>\n",
       "      <td>GLQ</td>\n",
       "      <td>Unf</td>\n",
       "      <td>Gd</td>\n",
       "      <td>TA</td>\n",
       "      <td>Mn</td>\n",
       "      <td>Attchd</td>\n",
       "      <td>TA</td>\n",
       "      <td>RFn</td>\n",
       "      <td>TA</td>\n",
       "    </tr>\n",
       "    <tr>\n",
       "      <th>3</th>\n",
       "      <td>Gd</td>\n",
       "      <td>SBrkr</td>\n",
       "      <td>WD</td>\n",
       "      <td>Wd Sdng</td>\n",
       "      <td>Wd Shng</td>\n",
       "      <td>AllPub</td>\n",
       "      <td>Typ</td>\n",
       "      <td>RL</td>\n",
       "      <td>None</td>\n",
       "      <td>ALQ</td>\n",
       "      <td>Unf</td>\n",
       "      <td>TA</td>\n",
       "      <td>Gd</td>\n",
       "      <td>No</td>\n",
       "      <td>Detchd</td>\n",
       "      <td>TA</td>\n",
       "      <td>Unf</td>\n",
       "      <td>TA</td>\n",
       "    </tr>\n",
       "    <tr>\n",
       "      <th>4</th>\n",
       "      <td>Gd</td>\n",
       "      <td>SBrkr</td>\n",
       "      <td>WD</td>\n",
       "      <td>VinylSd</td>\n",
       "      <td>VinylSd</td>\n",
       "      <td>AllPub</td>\n",
       "      <td>Typ</td>\n",
       "      <td>RL</td>\n",
       "      <td>BrkFace</td>\n",
       "      <td>GLQ</td>\n",
       "      <td>Unf</td>\n",
       "      <td>Gd</td>\n",
       "      <td>TA</td>\n",
       "      <td>Av</td>\n",
       "      <td>Attchd</td>\n",
       "      <td>TA</td>\n",
       "      <td>RFn</td>\n",
       "      <td>TA</td>\n",
       "    </tr>\n",
       "  </tbody>\n",
       "</table>\n",
       "</div>"
      ],
      "text/plain": [
       "  KitchenQual Electrical SaleType Exterior1st Exterior2nd Utilities  \\\n",
       "0          Gd      SBrkr       WD     VinylSd     VinylSd    AllPub   \n",
       "1          TA      SBrkr       WD     MetalSd     MetalSd    AllPub   \n",
       "2          Gd      SBrkr       WD     VinylSd     VinylSd    AllPub   \n",
       "3          Gd      SBrkr       WD     Wd Sdng     Wd Shng    AllPub   \n",
       "4          Gd      SBrkr       WD     VinylSd     VinylSd    AllPub   \n",
       "\n",
       "  Functional MSZoning MasVnrType BsmtFinType1 BsmtFinType2 BsmtQual BsmtCond  \\\n",
       "0        Typ       RL    BrkFace          GLQ          Unf       Gd       TA   \n",
       "1        Typ       RL       None          ALQ          Unf       Gd       TA   \n",
       "2        Typ       RL    BrkFace          GLQ          Unf       Gd       TA   \n",
       "3        Typ       RL       None          ALQ          Unf       TA       Gd   \n",
       "4        Typ       RL    BrkFace          GLQ          Unf       Gd       TA   \n",
       "\n",
       "  BsmtExposure GarageType GarageCond GarageFinish GarageQual  \n",
       "0           No     Attchd         TA          RFn         TA  \n",
       "1           Gd     Attchd         TA          RFn         TA  \n",
       "2           Mn     Attchd         TA          RFn         TA  \n",
       "3           No     Detchd         TA          Unf         TA  \n",
       "4           Av     Attchd         TA          RFn         TA  "
      ]
     },
     "execution_count": 12,
     "metadata": {},
     "output_type": "execute_result"
    }
   ],
   "source": [
    "NAcat.head()"
   ]
  },
  {
   "cell_type": "code",
   "execution_count": 13,
   "metadata": {},
   "outputs": [],
   "source": [
    "ffill_cols = ['Electrical', 'SaleType', 'KitchenQual', 'Exterior1st','Exterior2nd', 'Functional', 'Utilities', 'MSZoning']\n",
    "for col in combined[ffill_cols]:\n",
    "        combined[col] = combined[col].fillna(method='ffill')\n",
    "# if still some are remaing for saftey check again\n",
    "NAcols=combined.columns\n",
    "for col in NAcols:\n",
    "    if combined[col].dtype == \"object\":\n",
    "        combined[col] = combined[col].fillna(\"None\")\n",
    "for col in NAcols:\n",
    "    if combined[col].dtype != \"object\":\n",
    "        combined[col]= combined[col].fillna(0)"
   ]
  },
  {
   "cell_type": "markdown",
   "metadata": {},
   "source": [
    "Last check to see if we have any missing values"
   ]
  },
  {
   "cell_type": "code",
   "execution_count": 14,
   "metadata": {},
   "outputs": [
    {
     "data": {
      "text/plain": [
       "SaleCondition    0\n",
       "YearRemodAdd     0\n",
       "RoofMatl         0\n",
       "Exterior1st      0\n",
       "Exterior2nd      0\n",
       "dtype: int64"
      ]
     },
     "execution_count": 14,
     "metadata": {},
     "output_type": "execute_result"
    }
   ],
   "source": [
    "combined.isnull().sum().sort_values(ascending=False).head()"
   ]
  },
  {
   "cell_type": "markdown",
   "metadata": {},
   "source": [
    "We are done with the missing values, now next is feature engineering"
   ]
  },
  {
   "cell_type": "markdown",
   "metadata": {},
   "source": [
    "# Feature Engineering"
   ]
  },
  {
   "cell_type": "markdown",
   "metadata": {},
   "source": [
    "Instead of having different areas, let's combine it into total area."
   ]
  },
  {
   "cell_type": "code",
   "execution_count": 15,
   "metadata": {},
   "outputs": [],
   "source": [
    "combined['Total_Area'] = combined['TotalBsmtSF'] + combined['1stFlrSF'] + combined['2ndFlrSF'] + combined['GrLivArea'] +combined['GarageArea']"
   ]
  },
  {
   "cell_type": "markdown",
   "metadata": {},
   "source": [
    "Instead of having the half bath and full bath, let's combine both."
   ]
  },
  {
   "cell_type": "code",
   "execution_count": 16,
   "metadata": {},
   "outputs": [],
   "source": [
    "combined['Bathrooms'] = combined['FullBath'] + combined['HalfBath']*0.5"
   ]
  },
  {
   "cell_type": "code",
   "execution_count": 17,
   "metadata": {},
   "outputs": [],
   "source": [
    "combined['MSSubClass'] = combined['MSSubClass'].apply(str)\n",
    "combined['YrSold'] = combined['YrSold'].astype(str)"
   ]
  },
  {
   "cell_type": "markdown",
   "metadata": {},
   "source": [
    "One-Hot Encoding"
   ]
  },
  {
   "cell_type": "code",
   "execution_count": 18,
   "metadata": {},
   "outputs": [
    {
     "name": "stdout",
     "output_type": "stream",
     "text": [
      "the shape of the original dataset (2919, 76)\n",
      "the shape of the encoded dataset (2919, 300)\n",
      "We have 224 new encoded features\n"
     ]
    }
   ],
   "source": [
    "cb=pd.get_dummies(combined)\n",
    "print(f\"the shape of the original dataset {combined.shape}\")\n",
    "print(f\"the shape of the encoded dataset {cb.shape}\")\n",
    "print(f\"We have {cb.shape[1]- combined.shape[1]} new encoded features\")"
   ]
  },
  {
   "cell_type": "code",
   "execution_count": 19,
   "metadata": {},
   "outputs": [],
   "source": [
    "Train = cb[:train.shape[0]]\n",
    "Test = cb[train.shape[0]:]"
   ]
  },
  {
   "cell_type": "markdown",
   "metadata": {},
   "source": [
    "# Outlier Detection"
   ]
  },
  {
   "cell_type": "code",
   "execution_count": 20,
   "metadata": {},
   "outputs": [
    {
     "data": {
      "text/plain": [
       "1298    5642\n",
       "523     4676\n",
       "Name: GrLivArea, dtype: int64"
      ]
     },
     "execution_count": 20,
     "metadata": {},
     "output_type": "execute_result"
    }
   ],
   "source": [
    "Train['GrLivArea'].sort_values(ascending=False).head(2)"
   ]
  },
  {
   "cell_type": "code",
   "execution_count": 21,
   "metadata": {},
   "outputs": [
    {
     "data": {
      "text/plain": [
       "1298    6110.0\n",
       "Name: TotalBsmtSF, dtype: float64"
      ]
     },
     "execution_count": 21,
     "metadata": {},
     "output_type": "execute_result"
    }
   ],
   "source": [
    "Train['TotalBsmtSF'].sort_values(ascending=False).head(1)"
   ]
  },
  {
   "cell_type": "code",
   "execution_count": 22,
   "metadata": {},
   "outputs": [
    {
     "data": {
      "text/plain": [
       "297    1600.0\n",
       "Name: MasVnrArea, dtype: float64"
      ]
     },
     "execution_count": 22,
     "metadata": {},
     "output_type": "execute_result"
    }
   ],
   "source": [
    "Train['MasVnrArea'].sort_values(ascending=False).head(1)"
   ]
  },
  {
   "cell_type": "code",
   "execution_count": 23,
   "metadata": {},
   "outputs": [
    {
     "data": {
      "text/plain": [
       "1298    4692\n",
       "Name: 1stFlrSF, dtype: int64"
      ]
     },
     "execution_count": 23,
     "metadata": {},
     "output_type": "execute_result"
    }
   ],
   "source": [
    "Train['1stFlrSF'].sort_values(ascending=False).head(1)"
   ]
  },
  {
   "cell_type": "code",
   "execution_count": 24,
   "metadata": {},
   "outputs": [
    {
     "data": {
      "text/plain": [
       "1298    1418.0\n",
       "581     1390.0\n",
       "1190    1356.0\n",
       "1061    1248.0\n",
       "Name: GarageArea, dtype: float64"
      ]
     },
     "execution_count": 24,
     "metadata": {},
     "output_type": "execute_result"
    }
   ],
   "source": [
    "Train['GarageArea'].sort_values(ascending=False).head(4)"
   ]
  },
  {
   "cell_type": "code",
   "execution_count": 25,
   "metadata": {},
   "outputs": [
    {
     "data": {
      "text/plain": [
       "635    14\n",
       "Name: TotRmsAbvGrd, dtype: int64"
      ]
     },
     "execution_count": 25,
     "metadata": {},
     "output_type": "execute_result"
    }
   ],
   "source": [
    "Train['TotRmsAbvGrd'].sort_values(ascending=False).head(1)"
   ]
  },
  {
   "cell_type": "code",
   "execution_count": 26,
   "metadata": {},
   "outputs": [
    {
     "name": "stderr",
     "output_type": "stream",
     "text": [
      "C:\\Users\\sachi\\Anaconda3\\lib\\site-packages\\pandas\\core\\frame.py:3940: SettingWithCopyWarning: \n",
      "A value is trying to be set on a copy of a slice from a DataFrame\n",
      "\n",
      "See the caveats in the documentation: http://pandas.pydata.org/pandas-docs/stable/indexing.html#indexing-view-versus-copy\n",
      "  errors=errors)\n"
     ]
    }
   ],
   "source": [
    "Train=Train[(Train['GrLivArea'] < 4600) & (Train['MasVnrArea'] < 1500)]\n",
    "target=train[['SalePrice']]\n",
    "pos = [1298,523, 297]\n",
    "target.drop(target.index[pos], inplace=True)"
   ]
  },
  {
   "cell_type": "markdown",
   "metadata": {},
   "source": [
    "After Removing the Outliers"
   ]
  },
  {
   "cell_type": "code",
   "execution_count": 27,
   "metadata": {},
   "outputs": [
    {
     "name": "stdout",
     "output_type": "stream",
     "text": [
      "Train:  1457 rows\n",
      "Target: 1457 rows\n"
     ]
    }
   ],
   "source": [
    "print( 'Train: ',Train.shape[0], 'rows')\n",
    "print('Target:', target.shape[0],'rows')"
   ]
  },
  {
   "cell_type": "markdown",
   "metadata": {},
   "source": [
    "Saving the Train and Test in a new file"
   ]
  },
  {
   "cell_type": "code",
   "execution_count": 28,
   "metadata": {},
   "outputs": [],
   "source": [
    "target[\"SalePrice\"] = np.log1p(target[\"SalePrice\"])\n",
    "Train = pd.concat([Train,target],axis=1)\n",
    "Train.to_csv('./Data/Cleaned_train.csv',index = False)\n",
    "Test.to_csv('./Data/Cleaned_test.csv',index = False)"
   ]
  }
 ],
 "metadata": {
  "kernelspec": {
   "display_name": "Python 3",
   "language": "python",
   "name": "python3"
  },
  "language_info": {
   "codemirror_mode": {
    "name": "ipython",
    "version": 3
   },
   "file_extension": ".py",
   "mimetype": "text/x-python",
   "name": "python",
   "nbconvert_exporter": "python",
   "pygments_lexer": "ipython3",
   "version": "3.7.3"
  }
 },
 "nbformat": 4,
 "nbformat_minor": 2
}
